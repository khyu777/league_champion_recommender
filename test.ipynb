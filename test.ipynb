{
 "cells": [
  {
   "cell_type": "code",
   "execution_count": 1,
   "metadata": {},
   "outputs": [],
   "source": [
    "from riotwatcher import LolWatcher, ApiError\n",
    "import pandas as pd\n",
    "import numpy as np\n",
    "from collections import defaultdict\n",
    "import time\n",
    "from tqdm import tqdm\n",
    "from tqdm.notebook import tqdm as tqdm_notebook\n",
    "\n",
    "lol_watcher = LolWatcher('RGAPI-a73e9ee3-61bb-4e38-8f48-998ff2478d88')\n",
    "my_region = 'na1'"
   ]
  },
  {
   "cell_type": "code",
   "execution_count": 2,
   "metadata": {},
   "outputs": [
    {
     "data": {
      "text/html": [
       "<div>\n",
       "<style scoped>\n",
       "    .dataframe tbody tr th:only-of-type {\n",
       "        vertical-align: middle;\n",
       "    }\n",
       "\n",
       "    .dataframe tbody tr th {\n",
       "        vertical-align: top;\n",
       "    }\n",
       "\n",
       "    .dataframe thead th {\n",
       "        text-align: right;\n",
       "    }\n",
       "</style>\n",
       "<table border=\"1\" class=\"dataframe\">\n",
       "  <thead>\n",
       "    <tr style=\"text-align: right;\">\n",
       "      <th></th>\n",
       "      <th>hp</th>\n",
       "      <th>hpperlevel</th>\n",
       "      <th>mp</th>\n",
       "      <th>mpperlevel</th>\n",
       "      <th>movespeed</th>\n",
       "      <th>armor</th>\n",
       "      <th>armorperlevel</th>\n",
       "      <th>spellblock</th>\n",
       "      <th>spellblockperlevel</th>\n",
       "      <th>attackrange</th>\n",
       "      <th>hpregen</th>\n",
       "      <th>hpregenperlevel</th>\n",
       "      <th>mpregen</th>\n",
       "      <th>mpregenperlevel</th>\n",
       "      <th>crit</th>\n",
       "      <th>critperlevel</th>\n",
       "      <th>attackdamage</th>\n",
       "      <th>attackdamageperlevel</th>\n",
       "      <th>attackspeedperlevel</th>\n",
       "      <th>attackspeed</th>\n",
       "    </tr>\n",
       "  </thead>\n",
       "  <tbody>\n",
       "    <tr>\n",
       "      <th>Aatrox</th>\n",
       "      <td>580.0</td>\n",
       "      <td>90</td>\n",
       "      <td>0.0</td>\n",
       "      <td>0.0</td>\n",
       "      <td>345</td>\n",
       "      <td>38</td>\n",
       "      <td>3.25</td>\n",
       "      <td>32.0</td>\n",
       "      <td>1.25</td>\n",
       "      <td>175</td>\n",
       "      <td>3.00</td>\n",
       "      <td>1.00</td>\n",
       "      <td>0.000</td>\n",
       "      <td>0.0</td>\n",
       "      <td>0</td>\n",
       "      <td>0</td>\n",
       "      <td>60.0</td>\n",
       "      <td>5.00</td>\n",
       "      <td>2.500</td>\n",
       "      <td>0.651</td>\n",
       "    </tr>\n",
       "    <tr>\n",
       "      <th>Ahri</th>\n",
       "      <td>500.0</td>\n",
       "      <td>82</td>\n",
       "      <td>418.0</td>\n",
       "      <td>25.0</td>\n",
       "      <td>330</td>\n",
       "      <td>18</td>\n",
       "      <td>3.50</td>\n",
       "      <td>30.0</td>\n",
       "      <td>0.50</td>\n",
       "      <td>550</td>\n",
       "      <td>2.50</td>\n",
       "      <td>0.60</td>\n",
       "      <td>8.000</td>\n",
       "      <td>0.8</td>\n",
       "      <td>0</td>\n",
       "      <td>0</td>\n",
       "      <td>53.0</td>\n",
       "      <td>3.00</td>\n",
       "      <td>2.000</td>\n",
       "      <td>0.668</td>\n",
       "    </tr>\n",
       "    <tr>\n",
       "      <th>Akali</th>\n",
       "      <td>500.0</td>\n",
       "      <td>105</td>\n",
       "      <td>200.0</td>\n",
       "      <td>0.0</td>\n",
       "      <td>345</td>\n",
       "      <td>23</td>\n",
       "      <td>3.50</td>\n",
       "      <td>37.0</td>\n",
       "      <td>1.25</td>\n",
       "      <td>125</td>\n",
       "      <td>9.00</td>\n",
       "      <td>0.90</td>\n",
       "      <td>50.000</td>\n",
       "      <td>0.0</td>\n",
       "      <td>0</td>\n",
       "      <td>0</td>\n",
       "      <td>62.0</td>\n",
       "      <td>3.30</td>\n",
       "      <td>3.200</td>\n",
       "      <td>0.625</td>\n",
       "    </tr>\n",
       "    <tr>\n",
       "      <th>Akshan</th>\n",
       "      <td>560.0</td>\n",
       "      <td>90</td>\n",
       "      <td>350.0</td>\n",
       "      <td>40.0</td>\n",
       "      <td>330</td>\n",
       "      <td>26</td>\n",
       "      <td>3.00</td>\n",
       "      <td>30.0</td>\n",
       "      <td>0.50</td>\n",
       "      <td>500</td>\n",
       "      <td>3.75</td>\n",
       "      <td>0.65</td>\n",
       "      <td>8.175</td>\n",
       "      <td>0.7</td>\n",
       "      <td>0</td>\n",
       "      <td>0</td>\n",
       "      <td>52.0</td>\n",
       "      <td>3.50</td>\n",
       "      <td>4.000</td>\n",
       "      <td>0.638</td>\n",
       "    </tr>\n",
       "    <tr>\n",
       "      <th>Alistar</th>\n",
       "      <td>600.0</td>\n",
       "      <td>106</td>\n",
       "      <td>350.0</td>\n",
       "      <td>40.0</td>\n",
       "      <td>330</td>\n",
       "      <td>44</td>\n",
       "      <td>3.50</td>\n",
       "      <td>32.0</td>\n",
       "      <td>1.25</td>\n",
       "      <td>125</td>\n",
       "      <td>8.50</td>\n",
       "      <td>0.85</td>\n",
       "      <td>8.500</td>\n",
       "      <td>0.8</td>\n",
       "      <td>0</td>\n",
       "      <td>0</td>\n",
       "      <td>62.0</td>\n",
       "      <td>3.75</td>\n",
       "      <td>2.125</td>\n",
       "      <td>0.625</td>\n",
       "    </tr>\n",
       "  </tbody>\n",
       "</table>\n",
       "</div>"
      ],
      "text/plain": [
       "            hp  hpperlevel     mp  mpperlevel  movespeed  armor  \\\n",
       "Aatrox   580.0          90    0.0         0.0        345     38   \n",
       "Ahri     500.0          82  418.0        25.0        330     18   \n",
       "Akali    500.0         105  200.0         0.0        345     23   \n",
       "Akshan   560.0          90  350.0        40.0        330     26   \n",
       "Alistar  600.0         106  350.0        40.0        330     44   \n",
       "\n",
       "         armorperlevel  spellblock  spellblockperlevel  attackrange  hpregen  \\\n",
       "Aatrox            3.25        32.0                1.25          175     3.00   \n",
       "Ahri              3.50        30.0                0.50          550     2.50   \n",
       "Akali             3.50        37.0                1.25          125     9.00   \n",
       "Akshan            3.00        30.0                0.50          500     3.75   \n",
       "Alistar           3.50        32.0                1.25          125     8.50   \n",
       "\n",
       "         hpregenperlevel  mpregen  mpregenperlevel  crit  critperlevel  \\\n",
       "Aatrox              1.00    0.000              0.0     0             0   \n",
       "Ahri                0.60    8.000              0.8     0             0   \n",
       "Akali               0.90   50.000              0.0     0             0   \n",
       "Akshan              0.65    8.175              0.7     0             0   \n",
       "Alistar             0.85    8.500              0.8     0             0   \n",
       "\n",
       "         attackdamage  attackdamageperlevel  attackspeedperlevel  attackspeed  \n",
       "Aatrox           60.0                  5.00                2.500        0.651  \n",
       "Ahri             53.0                  3.00                2.000        0.668  \n",
       "Akali            62.0                  3.30                3.200        0.625  \n",
       "Akshan           52.0                  3.50                4.000        0.638  \n",
       "Alistar          62.0                  3.75                2.125        0.625  "
      ]
     },
     "execution_count": 2,
     "metadata": {},
     "output_type": "execute_result"
    }
   ],
   "source": [
    "# Champion base stat\n",
    "latest = lol_watcher.data_dragon.versions_for_region(my_region)['n']['champion']\n",
    "champ = lol_watcher.data_dragon.champions(latest, False, 'en_US')\n",
    "\n",
    "champs = pd.DataFrame.from_dict(champ['data'], orient='index')\n",
    "champs = pd.DataFrame(champs.stats.values.tolist(), index=champs['id'])\n",
    "\n",
    "champ_stats = {}\n",
    "for champion in champ['data']:\n",
    "    champ_stats[champion] = champ['data'][champion]['stats']\n",
    "\n",
    "champ_stats_df = pd.DataFrame.from_dict(champ_stats, orient = 'index')\n",
    "champ_stats_df.rename(index={'Fiddlesticks':'FiddleSticks'}, inplace=True)\n",
    "champ_stats_df.head()"
   ]
  },
  {
   "cell_type": "code",
   "execution_count": 3,
   "metadata": {},
   "outputs": [],
   "source": [
    "summoner_names_input = '구l두라미,sanspareil2,tongxinjishou,월하무즉정야,T1 CrazzyCar'\n",
    "summoner_names = summoner_names_input.split(sep=',')\n",
    "summoner_ids = {lol_watcher.summoner.by_name('kr', summoner)['puuid']:summoner for summoner in summoner_names}"
   ]
  },
  {
   "cell_type": "code",
   "execution_count": 4,
   "metadata": {},
   "outputs": [
    {
     "data": {
      "application/vnd.jupyter.widget-view+json": {
       "model_id": "537eaff3641743869a3e69db235db510",
       "version_major": 2,
       "version_minor": 0
      },
      "text/plain": [
       "  0%|          | 0/5 [00:00<?, ?it/s]"
      ]
     },
     "metadata": {},
     "output_type": "display_data"
    },
    {
     "data": {
      "application/vnd.jupyter.widget-view+json": {
       "model_id": "da9d931bf0cb46599be961ab7c9380f7",
       "version_major": 2,
       "version_minor": 0
      },
      "text/plain": [
       "  0%|          | 0/20 [00:00<?, ?it/s]"
      ]
     },
     "metadata": {},
     "output_type": "display_data"
    },
    {
     "data": {
      "application/vnd.jupyter.widget-view+json": {
       "model_id": "e92ddf982c2a45268db7f0737024a33e",
       "version_major": 2,
       "version_minor": 0
      },
      "text/plain": [
       "  0%|          | 0/20 [00:00<?, ?it/s]"
      ]
     },
     "metadata": {},
     "output_type": "display_data"
    },
    {
     "data": {
      "application/vnd.jupyter.widget-view+json": {
       "model_id": "84ec68e8cab04a48ad9f9706a62d2073",
       "version_major": 2,
       "version_minor": 0
      },
      "text/plain": [
       "  0%|          | 0/20 [00:00<?, ?it/s]"
      ]
     },
     "metadata": {},
     "output_type": "display_data"
    },
    {
     "data": {
      "application/vnd.jupyter.widget-view+json": {
       "model_id": "4be373edcd444f11b7d75361e42c0166",
       "version_major": 2,
       "version_minor": 0
      },
      "text/plain": [
       "  0%|          | 0/20 [00:00<?, ?it/s]"
      ]
     },
     "metadata": {},
     "output_type": "display_data"
    },
    {
     "data": {
      "application/vnd.jupyter.widget-view+json": {
       "model_id": "2bffb8863a0e4681860d7aae7effe0e1",
       "version_major": 2,
       "version_minor": 0
      },
      "text/plain": [
       "  0%|          | 0/20 [00:00<?, ?it/s]"
      ]
     },
     "metadata": {},
     "output_type": "display_data"
    }
   ],
   "source": [
    "player_stats = []\n",
    "region = 'asia'\n",
    "for id, name in tqdm_notebook(summoner_ids.items()):\n",
    "    matchlist = lol_watcher.match.matchlist_by_puuid(region, id, start = 0, count = 20)\n",
    "    for match in tqdm_notebook(matchlist, leave = False):\n",
    "        match_info = lol_watcher.match.by_id(region, match)\n",
    "        for player in match_info['info']['participants']:\n",
    "            if player['puuid'] == id:\n",
    "                player['summonerName'] = name\n",
    "                player_stats.append(player)\n",
    "\n",
    "player_stats_df = pd.DataFrame(player_stats)"
   ]
  },
  {
   "cell_type": "code",
   "execution_count": 5,
   "metadata": {},
   "outputs": [],
   "source": [
    "player_stats_df_summary = player_stats_df.groupby(['summonerName', 'championName']).mean()\n",
    "player_stats_df_summary.drop(columns=['championId'], inplace=True)\n",
    "player_stats_df_count = player_stats_df.groupby(['summonerName', 'championName']).size()\n",
    "player_stats_df_summary = player_stats_df_summary.join(pd.DataFrame(player_stats_df_count, columns = ['count']))\n",
    "player_stats_df_summary.reset_index(level = 0, inplace=True)"
   ]
  },
  {
   "cell_type": "code",
   "execution_count": 6,
   "metadata": {},
   "outputs": [
    {
     "data": {
      "text/plain": [
       "array(['sanspareil2', 'tongxinjishou', '구l두라미', 'T1 CrazzyCar', '월하무즉정야'],\n",
       "      dtype=object)"
      ]
     },
     "execution_count": 6,
     "metadata": {},
     "output_type": "execute_result"
    }
   ],
   "source": [
    "# Combine player stat and champion base stat\n",
    "player_combined = player_stats_df_summary.join(champ_stats_df)\n",
    "player_combined = player_combined.reset_index().rename(columns={'index':'championName'})\n",
    "player_combined.summonerName.unique()"
   ]
  },
  {
   "cell_type": "code",
   "execution_count": 7,
   "metadata": {},
   "outputs": [
    {
     "data": {
      "text/plain": [
       "['구l두라미', 'sanspareil2', 'tongxinjishou', '월하무즉정야', 'T1 CrazzyCar']"
      ]
     },
     "execution_count": 7,
     "metadata": {},
     "output_type": "execute_result"
    }
   ],
   "source": [
    "summoner_names"
   ]
  },
  {
   "cell_type": "code",
   "execution_count": 9,
   "metadata": {},
   "outputs": [],
   "source": [
    "champ_selection_input = 'Ryze,Volibear,Alistar,Yasuo,Draven'\n",
    "champ_selection = champ_selection_input.split(sep=',')\n",
    "current_team = pd.DataFrame(\n",
    "    {'summonerName': summoner_names, 'championName':champ_selection}\n",
    ")\n",
    "current_team_stats = pd.merge(current_team, player_combined, 'left', on = ['summonerName', 'championName']).fillna(0)"
   ]
  },
  {
   "cell_type": "code",
   "execution_count": 10,
   "metadata": {},
   "outputs": [
    {
     "data": {
      "text/html": [
       "<div>\n",
       "<style scoped>\n",
       "    .dataframe tbody tr th:only-of-type {\n",
       "        vertical-align: middle;\n",
       "    }\n",
       "\n",
       "    .dataframe tbody tr th {\n",
       "        vertical-align: top;\n",
       "    }\n",
       "\n",
       "    .dataframe thead th {\n",
       "        text-align: right;\n",
       "    }\n",
       "</style>\n",
       "<table border=\"1\" class=\"dataframe\">\n",
       "  <thead>\n",
       "    <tr style=\"text-align: right;\">\n",
       "      <th></th>\n",
       "      <th>summonerName</th>\n",
       "      <th>championName</th>\n",
       "      <th>assists</th>\n",
       "      <th>baronKills</th>\n",
       "      <th>bountyLevel</th>\n",
       "      <th>champExperience</th>\n",
       "      <th>champLevel</th>\n",
       "      <th>championTransform</th>\n",
       "      <th>consumablesPurchased</th>\n",
       "      <th>damageDealtToBuildings</th>\n",
       "      <th>...</th>\n",
       "      <th>hpregen</th>\n",
       "      <th>hpregenperlevel</th>\n",
       "      <th>mpregen</th>\n",
       "      <th>mpregenperlevel</th>\n",
       "      <th>crit</th>\n",
       "      <th>critperlevel</th>\n",
       "      <th>attackdamage</th>\n",
       "      <th>attackdamageperlevel</th>\n",
       "      <th>attackspeedperlevel</th>\n",
       "      <th>attackspeed</th>\n",
       "    </tr>\n",
       "  </thead>\n",
       "  <tbody>\n",
       "    <tr>\n",
       "      <th>0</th>\n",
       "      <td>구l두라미</td>\n",
       "      <td>Ryze</td>\n",
       "      <td>8.5</td>\n",
       "      <td>0.000000</td>\n",
       "      <td>1.000000</td>\n",
       "      <td>12687.500000</td>\n",
       "      <td>14.000000</td>\n",
       "      <td>0.0</td>\n",
       "      <td>1.500000</td>\n",
       "      <td>2154.000000</td>\n",
       "      <td>...</td>\n",
       "      <td>8.00</td>\n",
       "      <td>0.8</td>\n",
       "      <td>8.00</td>\n",
       "      <td>1.00</td>\n",
       "      <td>0.0</td>\n",
       "      <td>0.0</td>\n",
       "      <td>58.0</td>\n",
       "      <td>3.00</td>\n",
       "      <td>2.112</td>\n",
       "      <td>0.625</td>\n",
       "    </tr>\n",
       "    <tr>\n",
       "      <th>1</th>\n",
       "      <td>sanspareil2</td>\n",
       "      <td>Volibear</td>\n",
       "      <td>0.0</td>\n",
       "      <td>0.000000</td>\n",
       "      <td>0.000000</td>\n",
       "      <td>0.000000</td>\n",
       "      <td>0.000000</td>\n",
       "      <td>0.0</td>\n",
       "      <td>0.000000</td>\n",
       "      <td>0.000000</td>\n",
       "      <td>...</td>\n",
       "      <td>0.00</td>\n",
       "      <td>0.0</td>\n",
       "      <td>0.00</td>\n",
       "      <td>0.00</td>\n",
       "      <td>0.0</td>\n",
       "      <td>0.0</td>\n",
       "      <td>0.0</td>\n",
       "      <td>0.00</td>\n",
       "      <td>0.000</td>\n",
       "      <td>0.000</td>\n",
       "    </tr>\n",
       "    <tr>\n",
       "      <th>2</th>\n",
       "      <td>tongxinjishou</td>\n",
       "      <td>Alistar</td>\n",
       "      <td>0.0</td>\n",
       "      <td>0.000000</td>\n",
       "      <td>0.000000</td>\n",
       "      <td>0.000000</td>\n",
       "      <td>0.000000</td>\n",
       "      <td>0.0</td>\n",
       "      <td>0.000000</td>\n",
       "      <td>0.000000</td>\n",
       "      <td>...</td>\n",
       "      <td>0.00</td>\n",
       "      <td>0.0</td>\n",
       "      <td>0.00</td>\n",
       "      <td>0.00</td>\n",
       "      <td>0.0</td>\n",
       "      <td>0.0</td>\n",
       "      <td>0.0</td>\n",
       "      <td>0.00</td>\n",
       "      <td>0.000</td>\n",
       "      <td>0.000</td>\n",
       "    </tr>\n",
       "    <tr>\n",
       "      <th>3</th>\n",
       "      <td>월하무즉정야</td>\n",
       "      <td>Yasuo</td>\n",
       "      <td>5.0</td>\n",
       "      <td>0.000000</td>\n",
       "      <td>1.153846</td>\n",
       "      <td>10495.461538</td>\n",
       "      <td>12.461538</td>\n",
       "      <td>0.0</td>\n",
       "      <td>3.538462</td>\n",
       "      <td>2494.461538</td>\n",
       "      <td>...</td>\n",
       "      <td>6.50</td>\n",
       "      <td>0.9</td>\n",
       "      <td>0.00</td>\n",
       "      <td>0.00</td>\n",
       "      <td>0.0</td>\n",
       "      <td>0.0</td>\n",
       "      <td>60.0</td>\n",
       "      <td>3.00</td>\n",
       "      <td>3.500</td>\n",
       "      <td>0.697</td>\n",
       "    </tr>\n",
       "    <tr>\n",
       "      <th>4</th>\n",
       "      <td>T1 CrazzyCar</td>\n",
       "      <td>Draven</td>\n",
       "      <td>5.0</td>\n",
       "      <td>0.142857</td>\n",
       "      <td>1.714286</td>\n",
       "      <td>12258.714286</td>\n",
       "      <td>14.000000</td>\n",
       "      <td>0.0</td>\n",
       "      <td>3.142857</td>\n",
       "      <td>7463.714286</td>\n",
       "      <td>...</td>\n",
       "      <td>3.75</td>\n",
       "      <td>0.7</td>\n",
       "      <td>8.04</td>\n",
       "      <td>0.65</td>\n",
       "      <td>0.0</td>\n",
       "      <td>0.0</td>\n",
       "      <td>60.0</td>\n",
       "      <td>3.61</td>\n",
       "      <td>2.700</td>\n",
       "      <td>0.679</td>\n",
       "    </tr>\n",
       "  </tbody>\n",
       "</table>\n",
       "<p>5 rows × 116 columns</p>\n",
       "</div>"
      ],
      "text/plain": [
       "    summonerName championName  assists  baronKills  bountyLevel  \\\n",
       "0          구l두라미         Ryze      8.5    0.000000     1.000000   \n",
       "1    sanspareil2     Volibear      0.0    0.000000     0.000000   \n",
       "2  tongxinjishou      Alistar      0.0    0.000000     0.000000   \n",
       "3         월하무즉정야        Yasuo      5.0    0.000000     1.153846   \n",
       "4   T1 CrazzyCar       Draven      5.0    0.142857     1.714286   \n",
       "\n",
       "   champExperience  champLevel  championTransform  consumablesPurchased  \\\n",
       "0     12687.500000   14.000000                0.0              1.500000   \n",
       "1         0.000000    0.000000                0.0              0.000000   \n",
       "2         0.000000    0.000000                0.0              0.000000   \n",
       "3     10495.461538   12.461538                0.0              3.538462   \n",
       "4     12258.714286   14.000000                0.0              3.142857   \n",
       "\n",
       "   damageDealtToBuildings  ...  hpregen  hpregenperlevel  mpregen  \\\n",
       "0             2154.000000  ...     8.00              0.8     8.00   \n",
       "1                0.000000  ...     0.00              0.0     0.00   \n",
       "2                0.000000  ...     0.00              0.0     0.00   \n",
       "3             2494.461538  ...     6.50              0.9     0.00   \n",
       "4             7463.714286  ...     3.75              0.7     8.04   \n",
       "\n",
       "   mpregenperlevel  crit  critperlevel  attackdamage  attackdamageperlevel  \\\n",
       "0             1.00   0.0           0.0          58.0                  3.00   \n",
       "1             0.00   0.0           0.0           0.0                  0.00   \n",
       "2             0.00   0.0           0.0           0.0                  0.00   \n",
       "3             0.00   0.0           0.0          60.0                  3.00   \n",
       "4             0.65   0.0           0.0          60.0                  3.61   \n",
       "\n",
       "   attackspeedperlevel  attackspeed  \n",
       "0                2.112        0.625  \n",
       "1                0.000        0.000  \n",
       "2                0.000        0.000  \n",
       "3                3.500        0.697  \n",
       "4                2.700        0.679  \n",
       "\n",
       "[5 rows x 116 columns]"
      ]
     },
     "execution_count": 10,
     "metadata": {},
     "output_type": "execute_result"
    }
   ],
   "source": [
    "current_team_stats"
   ]
  },
  {
   "cell_type": "code",
   "execution_count": 11,
   "metadata": {},
   "outputs": [
    {
     "data": {
      "text/html": [
       "<div>\n",
       "<style scoped>\n",
       "    .dataframe tbody tr th:only-of-type {\n",
       "        vertical-align: middle;\n",
       "    }\n",
       "\n",
       "    .dataframe tbody tr th {\n",
       "        vertical-align: top;\n",
       "    }\n",
       "\n",
       "    .dataframe thead th {\n",
       "        text-align: right;\n",
       "    }\n",
       "</style>\n",
       "<table border=\"1\" class=\"dataframe\">\n",
       "  <thead>\n",
       "    <tr style=\"text-align: right;\">\n",
       "      <th></th>\n",
       "      <th>armor_0</th>\n",
       "      <th>armor_1</th>\n",
       "      <th>armor_2</th>\n",
       "      <th>armor_3</th>\n",
       "      <th>armor_4</th>\n",
       "      <th>armorperlevel_0</th>\n",
       "      <th>armorperlevel_1</th>\n",
       "      <th>armorperlevel_2</th>\n",
       "      <th>armorperlevel_3</th>\n",
       "      <th>armorperlevel_4</th>\n",
       "      <th>...</th>\n",
       "      <th>wardsKilled_0</th>\n",
       "      <th>wardsKilled_1</th>\n",
       "      <th>wardsKilled_2</th>\n",
       "      <th>wardsKilled_3</th>\n",
       "      <th>wardsKilled_4</th>\n",
       "      <th>wardsPlaced_0</th>\n",
       "      <th>wardsPlaced_1</th>\n",
       "      <th>wardsPlaced_2</th>\n",
       "      <th>wardsPlaced_3</th>\n",
       "      <th>wardsPlaced_4</th>\n",
       "    </tr>\n",
       "  </thead>\n",
       "  <tbody>\n",
       "    <tr>\n",
       "      <th>0</th>\n",
       "      <td>22.0</td>\n",
       "      <td>0.0</td>\n",
       "      <td>0.0</td>\n",
       "      <td>30.0</td>\n",
       "      <td>29.0</td>\n",
       "      <td>3.0</td>\n",
       "      <td>0.0</td>\n",
       "      <td>0.0</td>\n",
       "      <td>3.4</td>\n",
       "      <td>3.3</td>\n",
       "      <td>...</td>\n",
       "      <td>0.5</td>\n",
       "      <td>0.0</td>\n",
       "      <td>0.0</td>\n",
       "      <td>1.692308</td>\n",
       "      <td>4.142857</td>\n",
       "      <td>6.5</td>\n",
       "      <td>0.0</td>\n",
       "      <td>0.0</td>\n",
       "      <td>5.307692</td>\n",
       "      <td>7.714286</td>\n",
       "    </tr>\n",
       "  </tbody>\n",
       "</table>\n",
       "<p>1 rows × 560 columns</p>\n",
       "</div>"
      ],
      "text/plain": [
       "   armor_0  armor_1  armor_2  armor_3  armor_4  armorperlevel_0  \\\n",
       "0     22.0      0.0      0.0     30.0     29.0              3.0   \n",
       "\n",
       "   armorperlevel_1  armorperlevel_2  armorperlevel_3  armorperlevel_4  ...  \\\n",
       "0              0.0              0.0              3.4              3.3  ...   \n",
       "\n",
       "   wardsKilled_0  wardsKilled_1  wardsKilled_2  wardsKilled_3  wardsKilled_4  \\\n",
       "0            0.5            0.0            0.0       1.692308       4.142857   \n",
       "\n",
       "   wardsPlaced_0  wardsPlaced_1  wardsPlaced_2  wardsPlaced_3  wardsPlaced_4  \n",
       "0            6.5            0.0            0.0       5.307692       7.714286  \n",
       "\n",
       "[1 rows x 560 columns]"
      ]
     },
     "execution_count": 11,
     "metadata": {},
     "output_type": "execute_result"
    }
   ],
   "source": [
    "current_team_out = current_team_stats.drop(columns=['summonerName', 'championName', 'win', 'count']).stack()\n",
    "current_team_out.index = current_team_out.index.map('{0[1]}_{0[0]}'.format)\n",
    "current_team_out = current_team_out.to_frame().T\n",
    "current_team_out.reindex(sorted(current_team_out.columns), axis=1)"
   ]
  },
  {
   "cell_type": "code",
   "execution_count": 12,
   "metadata": {},
   "outputs": [],
   "source": [
    "training_dataset = pd.read_csv('training_dataset.csv')"
   ]
  },
  {
   "cell_type": "code",
   "execution_count": 13,
   "metadata": {},
   "outputs": [],
   "source": [
    "from sklearn.linear_model import LogisticRegression\n",
    "from sklearn import preprocessing\n",
    "from sklearn.ensemble import RandomForestClassifier\n",
    "\n",
    "x_train = training_dataset.reindex(sorted(training_dataset.columns), axis=1).drop(columns = 'win_')\n",
    "scaler = preprocessing.StandardScaler().fit(x_train)\n",
    "x_train_scaled = scaler.transform(x_train)\n",
    "\n",
    "y_train = training_dataset['win_']\n",
    "x_test = current_team_out.reindex(sorted(current_team_out.columns), axis=1)\n",
    "x_test_scaled = scaler.transform(x_test)\n",
    "logit = LogisticRegression(max_iter=50000)"
   ]
  },
  {
   "cell_type": "code",
   "execution_count": 14,
   "metadata": {},
   "outputs": [
    {
     "data": {
      "text/plain": [
       "array([False])"
      ]
     },
     "execution_count": 14,
     "metadata": {},
     "output_type": "execute_result"
    }
   ],
   "source": [
    "logit.fit(x_train_scaled, y_train)\n",
    "logit.predict(x_test_scaled)"
   ]
  },
  {
   "cell_type": "code",
   "execution_count": 15,
   "metadata": {},
   "outputs": [
    {
     "data": {
      "text/plain": [
       "array([[0.9964748, 0.0035252]])"
      ]
     },
     "execution_count": 15,
     "metadata": {},
     "output_type": "execute_result"
    }
   ],
   "source": [
    "logit.predict_proba(x_test_scaled)"
   ]
  },
  {
   "cell_type": "code",
   "execution_count": 16,
   "metadata": {},
   "outputs": [
    {
     "data": {
      "text/plain": [
       "array([ True])"
      ]
     },
     "execution_count": 16,
     "metadata": {},
     "output_type": "execute_result"
    }
   ],
   "source": [
    "rf = RandomForestClassifier()\n",
    "rf.fit(x_train_scaled, y_train)\n",
    "rf.predict(x_test_scaled)"
   ]
  },
  {
   "cell_type": "code",
   "execution_count": 17,
   "metadata": {},
   "outputs": [
    {
     "data": {
      "text/plain": [
       "array([[0.38, 0.62]])"
      ]
     },
     "execution_count": 17,
     "metadata": {},
     "output_type": "execute_result"
    }
   ],
   "source": [
    "rf.predict_proba(x_test_scaled)"
   ]
  }
 ],
 "metadata": {
  "interpreter": {
   "hash": "59fe12a418d048fb22785a484df3ee97d1724f37e6cf9cba8b03623183d25f9f"
  },
  "kernelspec": {
   "display_name": "Python 3.10.2 ('venv': venv)",
   "language": "python",
   "name": "python3"
  },
  "language_info": {
   "codemirror_mode": {
    "name": "ipython",
    "version": 3
   },
   "file_extension": ".py",
   "mimetype": "text/x-python",
   "name": "python",
   "nbconvert_exporter": "python",
   "pygments_lexer": "ipython3",
   "version": "3.10.2"
  },
  "orig_nbformat": 4
 },
 "nbformat": 4,
 "nbformat_minor": 2
}
